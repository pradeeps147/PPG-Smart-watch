{
  "nbformat": 4,
  "nbformat_minor": 0,
  "metadata": {
    "colab": {
      "name": "glucose_ML.ipynb",
      "provenance": []
    },
    "kernelspec": {
      "name": "python3",
      "display_name": "Python 3"
    },
    "language_info": {
      "name": "python"
    }
  },
  "cells": [
    {
      "cell_type": "code",
      "metadata": {
        "id": "6LoRl3TAFY7e"
      },
      "source": [
        "\n",
        "# import the relevant libraries\n",
        "import pandas as pd\n",
        "import numpy as np\n",
        "from sklearn.preprocessing import LabelEncoder\n",
        "from sklearn.model_selection import train_test_split, GridSearchCV\n",
        "from sklearn.preprocessing import MinMaxScaler\n",
        "from sklearn.ensemble import ExtraTreesRegressor\n",
        "from lightgbm import LGBMRegressor\n",
        "from xgboost import XGBRegressor\n",
        "from sklearn.ensemble import RandomForestRegressor\n",
        "\n",
        "from sklearn.metrics import mean_absolute_error, accuracy_score, mean_squared_error\n",
        "from sklearn import metrics\n",
        "import warnings\n",
        "warnings.filterwarnings('ignore')"
      ],
      "execution_count": null,
      "outputs": []
    },
    {
      "cell_type": "code",
      "metadata": {
        "colab": {
          "base_uri": "https://localhost:8080/"
        },
        "id": "L6LmipHMI8oE",
        "outputId": "98ad25c6-b6c4-47e2-adf2-9d1829ba88a7"
      },
      "source": [
        "from google.colab import drive\n",
        "drive.mount('drive')"
      ],
      "execution_count": null,
      "outputs": [
        {
          "output_type": "stream",
          "name": "stdout",
          "text": [
            "Mounted at drive\n"
          ]
        }
      ]
    },
    {
      "cell_type": "code",
      "metadata": {
        "colab": {
          "base_uri": "https://localhost:8080/",
          "height": 225
        },
        "id": "uLj_PnBqI_mP",
        "outputId": "dbccbb60-b7f0-4eef-af6b-4ab448546d40"
      },
      "source": [
        "path = \"/content/drive/MyDrive/Pradeep_redpine/Documents/\"\n",
        "master_data= pd.read_csv(path + 'master_data.csv')\n",
        "\n",
        "master_data.head()"
      ],
      "execution_count": null,
      "outputs": [
        {
          "output_type": "execute_result",
          "data": {
            "text/html": [
              "<div>\n",
              "<style scoped>\n",
              "    .dataframe tbody tr th:only-of-type {\n",
              "        vertical-align: middle;\n",
              "    }\n",
              "\n",
              "    .dataframe tbody tr th {\n",
              "        vertical-align: top;\n",
              "    }\n",
              "\n",
              "    .dataframe thead th {\n",
              "        text-align: right;\n",
              "    }\n",
              "</style>\n",
              "<table border=\"1\" class=\"dataframe\">\n",
              "  <thead>\n",
              "    <tr style=\"text-align: right;\">\n",
              "      <th></th>\n",
              "      <th>a</th>\n",
              "      <th>b</th>\n",
              "      <th>c</th>\n",
              "      <th>d</th>\n",
              "      <th>e</th>\n",
              "      <th>f</th>\n",
              "      <th>g</th>\n",
              "      <th>h</th>\n",
              "      <th>i</th>\n",
              "      <th>j</th>\n",
              "      <th>k</th>\n",
              "      <th>l</th>\n",
              "      <th>m</th>\n",
              "      <th>n</th>\n",
              "      <th>o</th>\n",
              "      <th>p</th>\n",
              "      <th>q</th>\n",
              "      <th>r</th>\n",
              "      <th>s</th>\n",
              "      <th>t</th>\n",
              "      <th>u</th>\n",
              "      <th>v</th>\n",
              "      <th>w</th>\n",
              "      <th>x</th>\n",
              "      <th>y</th>\n",
              "      <th>z</th>\n",
              "      <th>aa</th>\n",
              "      <th>ab</th>\n",
              "      <th>ac</th>\n",
              "      <th>ad</th>\n",
              "      <th>ae</th>\n",
              "      <th>af</th>\n",
              "      <th>ag</th>\n",
              "      <th>ah</th>\n",
              "      <th>ai</th>\n",
              "      <th>aj</th>\n",
              "      <th>ak</th>\n",
              "      <th>al</th>\n",
              "      <th>am</th>\n",
              "      <th>an</th>\n",
              "      <th>ao</th>\n",
              "      <th>ap</th>\n",
              "      <th>aq</th>\n",
              "      <th>ar</th>\n",
              "      <th>as</th>\n",
              "      <th>label</th>\n",
              "    </tr>\n",
              "  </thead>\n",
              "  <tbody>\n",
              "    <tr>\n",
              "      <th>0</th>\n",
              "      <td>0.759328</td>\n",
              "      <td>0.051102</td>\n",
              "      <td>0.050447</td>\n",
              "      <td>0.691667</td>\n",
              "      <td>0.067299</td>\n",
              "      <td>0.932701</td>\n",
              "      <td>0.066436</td>\n",
              "      <td>0.000863</td>\n",
              "      <td>0.148333</td>\n",
              "      <td>0.616667</td>\n",
              "      <td>0.640000</td>\n",
              "      <td>0.023333</td>\n",
              "      <td>0.230000</td>\n",
              "      <td>0.399393</td>\n",
              "      <td>0.195348</td>\n",
              "      <td>0.989070</td>\n",
              "      <td>0.214458</td>\n",
              "      <td>0.891566</td>\n",
              "      <td>0.925301</td>\n",
              "      <td>0.033735</td>\n",
              "      <td>0.066667</td>\n",
              "      <td>0.268333</td>\n",
              "      <td>0.390000</td>\n",
              "      <td>0.436667</td>\n",
              "      <td>-0.782787</td>\n",
              "      <td>-0.091628</td>\n",
              "      <td>-0.874415</td>\n",
              "      <td>0.028333</td>\n",
              "      <td>0.103333</td>\n",
              "      <td>0.096386</td>\n",
              "      <td>0.387952</td>\n",
              "      <td>0.563855</td>\n",
              "      <td>0.631325</td>\n",
              "      <td>0.040964</td>\n",
              "      <td>0.149398</td>\n",
              "      <td>0.055422</td>\n",
              "      <td>0.238554</td>\n",
              "      <td>-0.327711</td>\n",
              "      <td>-0.293976</td>\n",
              "      <td>5.419922</td>\n",
              "      <td>0.015931</td>\n",
              "      <td>4.815900</td>\n",
              "      <td>0.009824</td>\n",
              "      <td>8.935547</td>\n",
              "      <td>0.003691</td>\n",
              "      <td>109</td>\n",
              "    </tr>\n",
              "    <tr>\n",
              "      <th>1</th>\n",
              "      <td>0.901039</td>\n",
              "      <td>0.236481</td>\n",
              "      <td>0.234768</td>\n",
              "      <td>0.666667</td>\n",
              "      <td>0.262454</td>\n",
              "      <td>0.737546</td>\n",
              "      <td>0.260552</td>\n",
              "      <td>0.001901</td>\n",
              "      <td>0.156667</td>\n",
              "      <td>0.493333</td>\n",
              "      <td>0.513333</td>\n",
              "      <td>0.020000</td>\n",
              "      <td>0.263333</td>\n",
              "      <td>0.390981</td>\n",
              "      <td>0.173873</td>\n",
              "      <td>1.542268</td>\n",
              "      <td>0.235000</td>\n",
              "      <td>0.740000</td>\n",
              "      <td>0.770000</td>\n",
              "      <td>0.030000</td>\n",
              "      <td>0.071667</td>\n",
              "      <td>0.295000</td>\n",
              "      <td>0.390000</td>\n",
              "      <td>0.445000</td>\n",
              "      <td>-0.772208</td>\n",
              "      <td>-0.045414</td>\n",
              "      <td>-0.817622</td>\n",
              "      <td>0.033333</td>\n",
              "      <td>0.113333</td>\n",
              "      <td>0.107500</td>\n",
              "      <td>0.442500</td>\n",
              "      <td>0.585000</td>\n",
              "      <td>0.667500</td>\n",
              "      <td>0.050000</td>\n",
              "      <td>0.170000</td>\n",
              "      <td>0.057500</td>\n",
              "      <td>0.272500</td>\n",
              "      <td>-0.155000</td>\n",
              "      <td>-0.102500</td>\n",
              "      <td>3.881836</td>\n",
              "      <td>0.031337</td>\n",
              "      <td>5.712891</td>\n",
              "      <td>0.015067</td>\n",
              "      <td>7.910156</td>\n",
              "      <td>0.010668</td>\n",
              "      <td>109</td>\n",
              "    </tr>\n",
              "    <tr>\n",
              "      <th>2</th>\n",
              "      <td>0.881105</td>\n",
              "      <td>0.172121</td>\n",
              "      <td>0.164977</td>\n",
              "      <td>0.665000</td>\n",
              "      <td>0.195347</td>\n",
              "      <td>0.804653</td>\n",
              "      <td>0.187238</td>\n",
              "      <td>0.008109</td>\n",
              "      <td>0.151667</td>\n",
              "      <td>0.578333</td>\n",
              "      <td>0.613333</td>\n",
              "      <td>0.035000</td>\n",
              "      <td>0.246667</td>\n",
              "      <td>0.378558</td>\n",
              "      <td>0.172132</td>\n",
              "      <td>3.331376</td>\n",
              "      <td>0.228070</td>\n",
              "      <td>0.869674</td>\n",
              "      <td>0.922306</td>\n",
              "      <td>0.052632</td>\n",
              "      <td>0.070000</td>\n",
              "      <td>0.191667</td>\n",
              "      <td>0.221667</td>\n",
              "      <td>0.285000</td>\n",
              "      <td>-0.790663</td>\n",
              "      <td>0.098534</td>\n",
              "      <td>-0.692129</td>\n",
              "      <td>0.031667</td>\n",
              "      <td>0.111667</td>\n",
              "      <td>0.105263</td>\n",
              "      <td>0.288221</td>\n",
              "      <td>0.333333</td>\n",
              "      <td>0.428571</td>\n",
              "      <td>0.047619</td>\n",
              "      <td>0.167920</td>\n",
              "      <td>0.057644</td>\n",
              "      <td>0.120301</td>\n",
              "      <td>-0.536341</td>\n",
              "      <td>-0.493734</td>\n",
              "      <td>5.712891</td>\n",
              "      <td>0.017359</td>\n",
              "      <td>7.910156</td>\n",
              "      <td>0.013072</td>\n",
              "      <td>9.741211</td>\n",
              "      <td>0.004527</td>\n",
              "      <td>109</td>\n",
              "    </tr>\n",
              "    <tr>\n",
              "      <th>3</th>\n",
              "      <td>0.849716</td>\n",
              "      <td>0.135928</td>\n",
              "      <td>0.135301</td>\n",
              "      <td>0.683333</td>\n",
              "      <td>0.159969</td>\n",
              "      <td>0.840031</td>\n",
              "      <td>0.159231</td>\n",
              "      <td>0.000738</td>\n",
              "      <td>0.150000</td>\n",
              "      <td>0.620000</td>\n",
              "      <td>0.638333</td>\n",
              "      <td>0.018333</td>\n",
              "      <td>0.253333</td>\n",
              "      <td>0.374591</td>\n",
              "      <td>0.176530</td>\n",
              "      <td>3.020625</td>\n",
              "      <td>0.219512</td>\n",
              "      <td>0.907317</td>\n",
              "      <td>0.934146</td>\n",
              "      <td>0.026829</td>\n",
              "      <td>0.066667</td>\n",
              "      <td>0.281667</td>\n",
              "      <td>0.411667</td>\n",
              "      <td>0.460000</td>\n",
              "      <td>-0.823851</td>\n",
              "      <td>-0.109789</td>\n",
              "      <td>-0.933639</td>\n",
              "      <td>0.030000</td>\n",
              "      <td>0.103333</td>\n",
              "      <td>0.097561</td>\n",
              "      <td>0.412195</td>\n",
              "      <td>0.602439</td>\n",
              "      <td>0.673171</td>\n",
              "      <td>0.043902</td>\n",
              "      <td>0.151220</td>\n",
              "      <td>0.053659</td>\n",
              "      <td>0.260976</td>\n",
              "      <td>-0.304878</td>\n",
              "      <td>-0.260976</td>\n",
              "      <td>5.566406</td>\n",
              "      <td>0.018040</td>\n",
              "      <td>7.250977</td>\n",
              "      <td>0.008889</td>\n",
              "      <td>9.301758</td>\n",
              "      <td>0.005885</td>\n",
              "      <td>109</td>\n",
              "    </tr>\n",
              "    <tr>\n",
              "      <th>4</th>\n",
              "      <td>0.825774</td>\n",
              "      <td>0.139097</td>\n",
              "      <td>0.128035</td>\n",
              "      <td>0.675000</td>\n",
              "      <td>0.168444</td>\n",
              "      <td>0.831556</td>\n",
              "      <td>0.155049</td>\n",
              "      <td>0.013395</td>\n",
              "      <td>0.141667</td>\n",
              "      <td>0.586667</td>\n",
              "      <td>0.625000</td>\n",
              "      <td>0.038333</td>\n",
              "      <td>0.246667</td>\n",
              "      <td>0.342140</td>\n",
              "      <td>0.171556</td>\n",
              "      <td>2.781934</td>\n",
              "      <td>0.209877</td>\n",
              "      <td>0.869136</td>\n",
              "      <td>0.925926</td>\n",
              "      <td>0.056790</td>\n",
              "      <td>0.066667</td>\n",
              "      <td>0.268333</td>\n",
              "      <td>0.386667</td>\n",
              "      <td>0.433333</td>\n",
              "      <td>-0.865143</td>\n",
              "      <td>-0.061857</td>\n",
              "      <td>-0.927000</td>\n",
              "      <td>0.028333</td>\n",
              "      <td>0.103333</td>\n",
              "      <td>0.098765</td>\n",
              "      <td>0.397531</td>\n",
              "      <td>0.572840</td>\n",
              "      <td>0.641975</td>\n",
              "      <td>0.041975</td>\n",
              "      <td>0.153086</td>\n",
              "      <td>0.056790</td>\n",
              "      <td>0.244444</td>\n",
              "      <td>-0.296296</td>\n",
              "      <td>-0.283951</td>\n",
              "      <td>5.639648</td>\n",
              "      <td>0.017666</td>\n",
              "      <td>7.324219</td>\n",
              "      <td>0.011704</td>\n",
              "      <td>9.448242</td>\n",
              "      <td>0.006146</td>\n",
              "      <td>109</td>\n",
              "    </tr>\n",
              "  </tbody>\n",
              "</table>\n",
              "</div>"
            ],
            "text/plain": [
              "          a         b         c         d  ...        aq        ar        as  label\n",
              "0  0.759328  0.051102  0.050447  0.691667  ...  0.009824  8.935547  0.003691    109\n",
              "1  0.901039  0.236481  0.234768  0.666667  ...  0.015067  7.910156  0.010668    109\n",
              "2  0.881105  0.172121  0.164977  0.665000  ...  0.013072  9.741211  0.004527    109\n",
              "3  0.849716  0.135928  0.135301  0.683333  ...  0.008889  9.301758  0.005885    109\n",
              "4  0.825774  0.139097  0.128035  0.675000  ...  0.011704  9.448242  0.006146    109\n",
              "\n",
              "[5 rows x 46 columns]"
            ]
          },
          "metadata": {},
          "execution_count": 4
        }
      ]
    },
    {
      "cell_type": "code",
      "metadata": {
        "colab": {
          "base_uri": "https://localhost:8080/"
        },
        "id": "42R0poNiJI7M",
        "outputId": "41ba9831-8e21-4b54-c201-4ae0ed1dd22c"
      },
      "source": [
        "X=master_data.iloc[:,0:46][0:].to_numpy()\n",
        "\n",
        "y=master_data.iloc[:,-1][0:].to_numpy()\n",
        "y=y.reshape(-1,1)\n",
        "\n",
        "len(X),len(y)"
      ],
      "execution_count": null,
      "outputs": [
        {
          "output_type": "execute_result",
          "data": {
            "text/plain": [
              "(408, 408)"
            ]
          },
          "metadata": {},
          "execution_count": 5
        }
      ]
    },
    {
      "cell_type": "code",
      "metadata": {
        "colab": {
          "base_uri": "https://localhost:8080/"
        },
        "id": "lkHNUxv-JTZD",
        "outputId": "7d518820-fa00-45bb-d61a-1a0fe8fe2277"
      },
      "source": [
        "from sklearn.model_selection import train_test_split\n",
        "from sklearn.linear_model import LinearRegression\n",
        "from sklearn.metrics import mean_squared_error\n",
        "from sklearn.ensemble import RandomForestRegressor\n",
        "\n",
        "import numpy as np\n",
        "import pandas as pd\n",
        "import statsmodels.stats.api as sm\n",
        "\n",
        "%pylab inline"
      ],
      "execution_count": null,
      "outputs": [
        {
          "output_type": "stream",
          "name": "stdout",
          "text": [
            "Populating the interactive namespace from numpy and matplotlib\n"
          ]
        }
      ]
    },
    {
      "cell_type": "code",
      "metadata": {
        "colab": {
          "base_uri": "https://localhost:8080/"
        },
        "id": "-I9qFc34WNKQ",
        "outputId": "93b44769-77cc-4df2-e9ac-006b92bc6f5d"
      },
      "source": [
        "#train test split\n",
        "X_train, X_test, y_train, y_test = train_test_split(X, y, test_size=0.3, random_state=42)\n",
        "X_train.shape, X_test.shape, y_train.shape, y_test.shape"
      ],
      "execution_count": null,
      "outputs": [
        {
          "output_type": "execute_result",
          "data": {
            "text/plain": [
              "((285, 46), (123, 46), (285, 1), (123, 1))"
            ]
          },
          "metadata": {},
          "execution_count": 7
        }
      ]
    },
    {
      "cell_type": "code",
      "metadata": {
        "colab": {
          "base_uri": "https://localhost:8080/"
        },
        "id": "-BktzN6s17cR",
        "outputId": "f7fbbf77-fb84-4947-fa06-1f302ccf9f56"
      },
      "source": [
        "# feature scale the X_train and X_test values\n",
        "\n",
        "norm = MinMaxScaler().fit(X_train)\n",
        "\n",
        "# transform training data\n",
        "X_train = norm.transform(X_train)\n",
        "\n",
        "# transform testing data\n",
        "X_test = norm.transform(X_test)\n",
        "\n",
        "print(X_train)\n",
        "print('\\n')\n",
        "print(X_test)"
      ],
      "execution_count": null,
      "outputs": [
        {
          "output_type": "stream",
          "name": "stdout",
          "text": [
            "[[0.51864708 0.41490795 0.62993522 ... 0.36563877 0.62977069 0.5026455 ]\n",
            " [0.79256499 0.49053953 0.7432467  ... 0.84140969 0.08344809 0.5026455 ]\n",
            " [0.82753212 0.23339861 0.35794949 ... 0.57709251 0.27015316 0.5026455 ]\n",
            " ...\n",
            " [0.35093697 0.755425   0.19121413 ... 0.13656388 0.46597756 0.45502646]\n",
            " [0.33385352 0.89228718 0.48711267 ... 0.16740088 0.71614851 0.49206349]\n",
            " [0.87071562 0.57492286 0.85517703 ... 0.58590308 0.31233594 0.5026455 ]]\n",
            "\n",
            "\n",
            "[[0.61668503 0.83991695 0.31243534 ... 0.21585903 0.32047941 0.5026455 ]\n",
            " [0.8700178  0.04716578 0.08004118 ... 0.75330396 0.04878105 1.        ]\n",
            " [0.25791425 0.48628774 0.72599853 ... 0.45374449 0.238482   0.50793651]\n",
            " ...\n",
            " [0.49021101 0.80190496 0.24425928 ... 0.17180617 0.41283788 0.52910053]\n",
            " [0.57669563 0.09297307 0.14913254 ... 0.55947137 0.16715335 1.        ]\n",
            " [0.56030414 0.83280001 0.32059438 ... 0.14977974 0.37655827 0.52910053]]\n"
          ]
        }
      ]
    },
    {
      "cell_type": "code",
      "metadata": {
        "colab": {
          "base_uri": "https://localhost:8080/"
        },
        "id": "h7fgeBSp2AOV",
        "outputId": "84ef751e-aa71-4b45-bcf4-bc74344a844b"
      },
      "source": [
        "\n",
        "# Fitting extra trees regressor\n",
        "\n",
        "etr = ExtraTreesRegressor(random_state = 123 , max_depth = 45  , n_estimators = 400)\n",
        "etr.fit(X_train,y_train)"
      ],
      "execution_count": null,
      "outputs": [
        {
          "output_type": "execute_result",
          "data": {
            "text/plain": [
              "ExtraTreesRegressor(bootstrap=False, ccp_alpha=0.0, criterion='mse',\n",
              "                    max_depth=45, max_features='auto', max_leaf_nodes=None,\n",
              "                    max_samples=None, min_impurity_decrease=0.0,\n",
              "                    min_impurity_split=None, min_samples_leaf=1,\n",
              "                    min_samples_split=2, min_weight_fraction_leaf=0.0,\n",
              "                    n_estimators=400, n_jobs=None, oob_score=False,\n",
              "                    random_state=123, verbose=0, warm_start=False)"
            ]
          },
          "metadata": {},
          "execution_count": 9
        }
      ]
    },
    {
      "cell_type": "code",
      "metadata": {
        "colab": {
          "base_uri": "https://localhost:8080/"
        },
        "id": "kcFOHBkT2EPD",
        "outputId": "63b2dced-20b4-48cd-e81e-37ecd4281dcb"
      },
      "source": [
        "\n",
        "#Fitting light gbm model on the train data\n",
        "\n",
        "lgbm = LGBMRegressor(random_state = 123 ,  num_leaves = 750 , learning_rate = 0.01, max_bin = 1200 , n_estimators = 1000)\n",
        "lgbm.fit(X_train,y_train)"
      ],
      "execution_count": null,
      "outputs": [
        {
          "output_type": "execute_result",
          "data": {
            "text/plain": [
              "LGBMRegressor(boosting_type='gbdt', class_weight=None, colsample_bytree=1.0,\n",
              "              importance_type='split', learning_rate=0.01, max_bin=1200,\n",
              "              max_depth=-1, min_child_samples=20, min_child_weight=0.001,\n",
              "              min_split_gain=0.0, n_estimators=1000, n_jobs=-1, num_leaves=750,\n",
              "              objective=None, random_state=123, reg_alpha=0.0, reg_lambda=0.0,\n",
              "              silent=True, subsample=1.0, subsample_for_bin=200000,\n",
              "              subsample_freq=0)"
            ]
          },
          "metadata": {},
          "execution_count": 10
        }
      ]
    },
    {
      "cell_type": "code",
      "metadata": {
        "colab": {
          "base_uri": "https://localhost:8080/"
        },
        "id": "kJpBJK_C2Jzh",
        "outputId": "955583c3-0b79-451d-850e-98d923d42a71"
      },
      "source": [
        "#Fitting xgboost regressor model on the train data\n",
        "\n",
        "xgb = XGBRegressor(random_state = 123 , max_depth = 7 , learning_rate = 0.2 , n_estimators = 1500)\n",
        "xgb.fit(X_train,y_train)"
      ],
      "execution_count": null,
      "outputs": [
        {
          "output_type": "stream",
          "name": "stdout",
          "text": [
            "[08:06:30] WARNING: /workspace/src/objective/regression_obj.cu:152: reg:linear is now deprecated in favor of reg:squarederror.\n"
          ]
        },
        {
          "output_type": "execute_result",
          "data": {
            "text/plain": [
              "XGBRegressor(base_score=0.5, booster='gbtree', colsample_bylevel=1,\n",
              "             colsample_bynode=1, colsample_bytree=1, gamma=0,\n",
              "             importance_type='gain', learning_rate=0.2, max_delta_step=0,\n",
              "             max_depth=7, min_child_weight=1, missing=None, n_estimators=1500,\n",
              "             n_jobs=1, nthread=None, objective='reg:linear', random_state=123,\n",
              "             reg_alpha=0, reg_lambda=1, scale_pos_weight=1, seed=None,\n",
              "             silent=None, subsample=1, verbosity=1)"
            ]
          },
          "metadata": {},
          "execution_count": 11
        }
      ]
    },
    {
      "cell_type": "code",
      "metadata": {
        "colab": {
          "base_uri": "https://localhost:8080/"
        },
        "id": "RfgefeU31rbX",
        "outputId": "2a0a8e50-5bc6-4bdb-e7b5-5a759f55b4cc"
      },
      "source": [
        "\n",
        "#Fitting random forest regressor model on the train data\n",
        "\n",
        "rf = RandomForestRegressor(random_state = 123 , max_depth = 45 , n_estimators = 600)\n",
        "rf.fit(X_train,y_train)"
      ],
      "execution_count": null,
      "outputs": [
        {
          "output_type": "execute_result",
          "data": {
            "text/plain": [
              "RandomForestRegressor(bootstrap=True, ccp_alpha=0.0, criterion='mse',\n",
              "                      max_depth=45, max_features='auto', max_leaf_nodes=None,\n",
              "                      max_samples=None, min_impurity_decrease=0.0,\n",
              "                      min_impurity_split=None, min_samples_leaf=1,\n",
              "                      min_samples_split=2, min_weight_fraction_leaf=0.0,\n",
              "                      n_estimators=600, n_jobs=None, oob_score=False,\n",
              "                      random_state=123, verbose=0, warm_start=False)"
            ]
          },
          "metadata": {},
          "execution_count": 12
        }
      ]
    },
    {
      "cell_type": "code",
      "metadata": {
        "id": "NZ_pUxQv2Osm"
      },
      "source": [
        "#!pip install catboost\n"
      ],
      "execution_count": null,
      "outputs": []
    },
    {
      "cell_type": "code",
      "metadata": {
        "id": "kAusogdX7O6g"
      },
      "source": [
        "#Fitting catboost regressor model on the train data\n",
        "#from catboost import CatBoostRegressor\n",
        "#cat = CatBoostRegressor(random_state = 123  , max_depth = 14 )\n",
        "#cat.fit(X_train,y_train, verbose = False)"
      ],
      "execution_count": null,
      "outputs": []
    },
    {
      "cell_type": "code",
      "metadata": {
        "colab": {
          "base_uri": "https://localhost:8080/",
          "height": 175
        },
        "id": "AmY6ZvLs2SkB",
        "outputId": "b3810ee6-851f-460f-f734-fd03e1c5b090"
      },
      "source": [
        "train_score = pd.DataFrame({\n",
        "    'model': ['ExtraTreesRegressor', 'LGBMRegressor', 'XGBRegressor', 'RandomForestRegressor'],# 'CatBoostRegressor'],\n",
        "    \n",
        "    'score': [etr.score(X_train, y_train), lgbm.score(X_train, y_train),\n",
        "                xgb.score(X_train, y_train) , rf.score(X_train, y_train)]\n",
        "              #  cat.score(X_train, y_train)]\n",
        "    })\n",
        "train_score"
      ],
      "execution_count": null,
      "outputs": [
        {
          "output_type": "execute_result",
          "data": {
            "text/html": [
              "<div>\n",
              "<style scoped>\n",
              "    .dataframe tbody tr th:only-of-type {\n",
              "        vertical-align: middle;\n",
              "    }\n",
              "\n",
              "    .dataframe tbody tr th {\n",
              "        vertical-align: top;\n",
              "    }\n",
              "\n",
              "    .dataframe thead th {\n",
              "        text-align: right;\n",
              "    }\n",
              "</style>\n",
              "<table border=\"1\" class=\"dataframe\">\n",
              "  <thead>\n",
              "    <tr style=\"text-align: right;\">\n",
              "      <th></th>\n",
              "      <th>model</th>\n",
              "      <th>score</th>\n",
              "    </tr>\n",
              "  </thead>\n",
              "  <tbody>\n",
              "    <tr>\n",
              "      <th>0</th>\n",
              "      <td>ExtraTreesRegressor</td>\n",
              "      <td>1.000000</td>\n",
              "    </tr>\n",
              "    <tr>\n",
              "      <th>1</th>\n",
              "      <td>LGBMRegressor</td>\n",
              "      <td>0.985840</td>\n",
              "    </tr>\n",
              "    <tr>\n",
              "      <th>2</th>\n",
              "      <td>XGBRegressor</td>\n",
              "      <td>1.000000</td>\n",
              "    </tr>\n",
              "    <tr>\n",
              "      <th>3</th>\n",
              "      <td>RandomForestRegressor</td>\n",
              "      <td>0.996648</td>\n",
              "    </tr>\n",
              "  </tbody>\n",
              "</table>\n",
              "</div>"
            ],
            "text/plain": [
              "                   model     score\n",
              "0    ExtraTreesRegressor  1.000000\n",
              "1          LGBMRegressor  0.985840\n",
              "2           XGBRegressor  1.000000\n",
              "3  RandomForestRegressor  0.996648"
            ]
          },
          "metadata": {},
          "execution_count": 15
        }
      ]
    },
    {
      "cell_type": "code",
      "metadata": {
        "id": "UOX54tkN2WTI"
      },
      "source": [
        "etr_pred = etr.predict(X_test)\n",
        "lgbm_pred = lgbm.predict(X_test)\n",
        "xgb_pred = xgb.predict(X_test)\n",
        "rf_pred = rf.predict(X_test)\n",
        "#cat_pred = cat.predict(X_test)"
      ],
      "execution_count": null,
      "outputs": []
    },
    {
      "cell_type": "code",
      "metadata": {
        "colab": {
          "base_uri": "https://localhost:8080/",
          "height": 175
        },
        "id": "GzVS4Mj72bUI",
        "outputId": "2490530d-684e-437f-b29d-659c0059fe14"
      },
      "source": [
        "# Generalisation\n",
        "best_model = pd.DataFrame({\n",
        "    'model': ['ExtraTreesRegressor', 'LGBMRegressor', 'XGBRegressor', 'RandomForestRegressor'],# 'CatBoostRegressor'],\n",
        "    \n",
        "    'mae': [mean_absolute_error(y_test, etr_pred), mean_absolute_error(y_test, lgbm_pred),\n",
        "           mean_absolute_error(y_test, xgb_pred), mean_absolute_error(y_test, rf_pred)],\n",
        "           #mean_absolute_error(y_test, cat_pred)],\n",
        "    \n",
        "    'mse': [mean_squared_error(y_test, etr_pred), mean_squared_error(y_test, lgbm_pred),\n",
        "            mean_squared_error(y_test, xgb_pred), mean_squared_error(y_test, rf_pred)],\n",
        "           # mean_squared_error(y_test, cat_pred)],\n",
        "    \n",
        "    'rmse': [(np.sqrt(metrics.mean_squared_error(y_test, etr_pred))),(np.sqrt(metrics.mean_squared_error(y_test, lgbm_pred))),\n",
        "             (np.sqrt(metrics.mean_squared_error(y_test, xgb_pred))), (np.sqrt(metrics.mean_squared_error(y_test, rf_pred)))]#,\n",
        "            # (np.sqrt(metrics.mean_squared_error(y_test, cat_pred)))]\n",
        "})\n",
        "best_model"
      ],
      "execution_count": null,
      "outputs": [
        {
          "output_type": "execute_result",
          "data": {
            "text/html": [
              "<div>\n",
              "<style scoped>\n",
              "    .dataframe tbody tr th:only-of-type {\n",
              "        vertical-align: middle;\n",
              "    }\n",
              "\n",
              "    .dataframe tbody tr th {\n",
              "        vertical-align: top;\n",
              "    }\n",
              "\n",
              "    .dataframe thead th {\n",
              "        text-align: right;\n",
              "    }\n",
              "</style>\n",
              "<table border=\"1\" class=\"dataframe\">\n",
              "  <thead>\n",
              "    <tr style=\"text-align: right;\">\n",
              "      <th></th>\n",
              "      <th>model</th>\n",
              "      <th>mae</th>\n",
              "      <th>mse</th>\n",
              "      <th>rmse</th>\n",
              "    </tr>\n",
              "  </thead>\n",
              "  <tbody>\n",
              "    <tr>\n",
              "      <th>0</th>\n",
              "      <td>ExtraTreesRegressor</td>\n",
              "      <td>0.105305</td>\n",
              "      <td>0.079475</td>\n",
              "      <td>0.281912</td>\n",
              "    </tr>\n",
              "    <tr>\n",
              "      <th>1</th>\n",
              "      <td>LGBMRegressor</td>\n",
              "      <td>0.512012</td>\n",
              "      <td>1.008166</td>\n",
              "      <td>1.004075</td>\n",
              "    </tr>\n",
              "    <tr>\n",
              "      <th>2</th>\n",
              "      <td>XGBRegressor</td>\n",
              "      <td>0.091488</td>\n",
              "      <td>0.274853</td>\n",
              "      <td>0.524264</td>\n",
              "    </tr>\n",
              "    <tr>\n",
              "      <th>3</th>\n",
              "      <td>RandomForestRegressor</td>\n",
              "      <td>0.151653</td>\n",
              "      <td>0.378380</td>\n",
              "      <td>0.615126</td>\n",
              "    </tr>\n",
              "  </tbody>\n",
              "</table>\n",
              "</div>"
            ],
            "text/plain": [
              "                   model       mae       mse      rmse\n",
              "0    ExtraTreesRegressor  0.105305  0.079475  0.281912\n",
              "1          LGBMRegressor  0.512012  1.008166  1.004075\n",
              "2           XGBRegressor  0.091488  0.274853  0.524264\n",
              "3  RandomForestRegressor  0.151653  0.378380  0.615126"
            ]
          },
          "metadata": {},
          "execution_count": 17
        }
      ]
    },
    {
      "cell_type": "code",
      "metadata": {
        "id": "VXhb7YE1lawE"
      },
      "source": [
        "#create the grid\n",
        "grid = {'max_depth': [3,4,5],'n_estimators':[100, 200, 300]}\n",
        "\n",
        "#Instantiate GridSearchCV\n",
        "model = GridSearchCV (estimator = xgb, param_grid = grid, scoring ='neg_root_mean_squared_error', cv = 5)\n"
      ],
      "execution_count": null,
      "outputs": []
    },
    {
      "cell_type": "code",
      "metadata": {
        "colab": {
          "base_uri": "https://localhost:8080/"
        },
        "id": "eQzFDG4GltCP",
        "outputId": "17501bba-7613-4761-c05f-444be7b0d16a"
      },
      "source": [
        "model.fit(X_train,y_train)"
      ],
      "execution_count": null,
      "outputs": [
        {
          "output_type": "stream",
          "name": "stdout",
          "text": [
            "[08:13:55] WARNING: /workspace/src/objective/regression_obj.cu:152: reg:linear is now deprecated in favor of reg:squarederror.\n",
            "[08:13:55] WARNING: /workspace/src/objective/regression_obj.cu:152: reg:linear is now deprecated in favor of reg:squarederror.\n",
            "[08:13:55] WARNING: /workspace/src/objective/regression_obj.cu:152: reg:linear is now deprecated in favor of reg:squarederror.\n",
            "[08:13:56] WARNING: /workspace/src/objective/regression_obj.cu:152: reg:linear is now deprecated in favor of reg:squarederror.\n",
            "[08:13:56] WARNING: /workspace/src/objective/regression_obj.cu:152: reg:linear is now deprecated in favor of reg:squarederror.\n",
            "[08:13:56] WARNING: /workspace/src/objective/regression_obj.cu:152: reg:linear is now deprecated in favor of reg:squarederror.\n",
            "[08:13:56] WARNING: /workspace/src/objective/regression_obj.cu:152: reg:linear is now deprecated in favor of reg:squarederror.\n",
            "[08:13:56] WARNING: /workspace/src/objective/regression_obj.cu:152: reg:linear is now deprecated in favor of reg:squarederror.\n",
            "[08:13:56] WARNING: /workspace/src/objective/regression_obj.cu:152: reg:linear is now deprecated in favor of reg:squarederror.\n",
            "[08:13:56] WARNING: /workspace/src/objective/regression_obj.cu:152: reg:linear is now deprecated in favor of reg:squarederror.\n",
            "[08:13:56] WARNING: /workspace/src/objective/regression_obj.cu:152: reg:linear is now deprecated in favor of reg:squarederror.\n",
            "[08:13:57] WARNING: /workspace/src/objective/regression_obj.cu:152: reg:linear is now deprecated in favor of reg:squarederror.\n",
            "[08:13:57] WARNING: /workspace/src/objective/regression_obj.cu:152: reg:linear is now deprecated in favor of reg:squarederror.\n",
            "[08:13:57] WARNING: /workspace/src/objective/regression_obj.cu:152: reg:linear is now deprecated in favor of reg:squarederror.\n",
            "[08:13:57] WARNING: /workspace/src/objective/regression_obj.cu:152: reg:linear is now deprecated in favor of reg:squarederror.\n",
            "[08:13:57] WARNING: /workspace/src/objective/regression_obj.cu:152: reg:linear is now deprecated in favor of reg:squarederror.\n",
            "[08:13:57] WARNING: /workspace/src/objective/regression_obj.cu:152: reg:linear is now deprecated in favor of reg:squarederror.\n",
            "[08:13:57] WARNING: /workspace/src/objective/regression_obj.cu:152: reg:linear is now deprecated in favor of reg:squarederror.\n",
            "[08:13:57] WARNING: /workspace/src/objective/regression_obj.cu:152: reg:linear is now deprecated in favor of reg:squarederror.\n",
            "[08:13:58] WARNING: /workspace/src/objective/regression_obj.cu:152: reg:linear is now deprecated in favor of reg:squarederror.\n",
            "[08:13:58] WARNING: /workspace/src/objective/regression_obj.cu:152: reg:linear is now deprecated in favor of reg:squarederror.\n",
            "[08:13:58] WARNING: /workspace/src/objective/regression_obj.cu:152: reg:linear is now deprecated in favor of reg:squarederror.\n",
            "[08:13:58] WARNING: /workspace/src/objective/regression_obj.cu:152: reg:linear is now deprecated in favor of reg:squarederror.\n",
            "[08:13:58] WARNING: /workspace/src/objective/regression_obj.cu:152: reg:linear is now deprecated in favor of reg:squarederror.\n",
            "[08:13:58] WARNING: /workspace/src/objective/regression_obj.cu:152: reg:linear is now deprecated in favor of reg:squarederror.\n",
            "[08:13:58] WARNING: /workspace/src/objective/regression_obj.cu:152: reg:linear is now deprecated in favor of reg:squarederror.\n",
            "[08:13:58] WARNING: /workspace/src/objective/regression_obj.cu:152: reg:linear is now deprecated in favor of reg:squarederror.\n",
            "[08:13:59] WARNING: /workspace/src/objective/regression_obj.cu:152: reg:linear is now deprecated in favor of reg:squarederror.\n",
            "[08:13:59] WARNING: /workspace/src/objective/regression_obj.cu:152: reg:linear is now deprecated in favor of reg:squarederror.\n",
            "[08:13:59] WARNING: /workspace/src/objective/regression_obj.cu:152: reg:linear is now deprecated in favor of reg:squarederror.\n",
            "[08:13:59] WARNING: /workspace/src/objective/regression_obj.cu:152: reg:linear is now deprecated in favor of reg:squarederror.\n",
            "[08:13:59] WARNING: /workspace/src/objective/regression_obj.cu:152: reg:linear is now deprecated in favor of reg:squarederror.\n",
            "[08:13:59] WARNING: /workspace/src/objective/regression_obj.cu:152: reg:linear is now deprecated in favor of reg:squarederror.\n",
            "[08:13:59] WARNING: /workspace/src/objective/regression_obj.cu:152: reg:linear is now deprecated in favor of reg:squarederror.\n",
            "[08:13:59] WARNING: /workspace/src/objective/regression_obj.cu:152: reg:linear is now deprecated in favor of reg:squarederror.\n",
            "[08:14:00] WARNING: /workspace/src/objective/regression_obj.cu:152: reg:linear is now deprecated in favor of reg:squarederror.\n",
            "[08:14:00] WARNING: /workspace/src/objective/regression_obj.cu:152: reg:linear is now deprecated in favor of reg:squarederror.\n",
            "[08:14:00] WARNING: /workspace/src/objective/regression_obj.cu:152: reg:linear is now deprecated in favor of reg:squarederror.\n",
            "[08:14:00] WARNING: /workspace/src/objective/regression_obj.cu:152: reg:linear is now deprecated in favor of reg:squarederror.\n",
            "[08:14:00] WARNING: /workspace/src/objective/regression_obj.cu:152: reg:linear is now deprecated in favor of reg:squarederror.\n",
            "[08:14:00] WARNING: /workspace/src/objective/regression_obj.cu:152: reg:linear is now deprecated in favor of reg:squarederror.\n",
            "[08:14:00] WARNING: /workspace/src/objective/regression_obj.cu:152: reg:linear is now deprecated in favor of reg:squarederror.\n",
            "[08:14:01] WARNING: /workspace/src/objective/regression_obj.cu:152: reg:linear is now deprecated in favor of reg:squarederror.\n",
            "[08:14:01] WARNING: /workspace/src/objective/regression_obj.cu:152: reg:linear is now deprecated in favor of reg:squarederror.\n",
            "[08:14:01] WARNING: /workspace/src/objective/regression_obj.cu:152: reg:linear is now deprecated in favor of reg:squarederror.\n",
            "[08:14:01] WARNING: /workspace/src/objective/regression_obj.cu:152: reg:linear is now deprecated in favor of reg:squarederror.\n"
          ]
        },
        {
          "output_type": "execute_result",
          "data": {
            "text/plain": [
              "GridSearchCV(cv=5, error_score=nan,\n",
              "             estimator=XGBRegressor(base_score=0.5, booster='gbtree',\n",
              "                                    colsample_bylevel=1, colsample_bynode=1,\n",
              "                                    colsample_bytree=1, gamma=0,\n",
              "                                    importance_type='gain', learning_rate=0.2,\n",
              "                                    max_delta_step=0, max_depth=7,\n",
              "                                    min_child_weight=1, missing=None,\n",
              "                                    n_estimators=1500, n_jobs=1, nthread=None,\n",
              "                                    objective='reg:linear', random_state=123,\n",
              "                                    reg_alpha=0, reg_lambda=1,\n",
              "                                    scale_pos_weight=1, seed=None, silent=None,\n",
              "                                    subsample=1, verbosity=1),\n",
              "             iid='deprecated', n_jobs=None,\n",
              "             param_grid={'max_depth': [3, 4, 5],\n",
              "                         'n_estimators': [100, 200, 300]},\n",
              "             pre_dispatch='2*n_jobs', refit=True, return_train_score=False,\n",
              "             scoring='neg_root_mean_squared_error', verbose=0)"
            ]
          },
          "metadata": {},
          "execution_count": 25
        }
      ]
    },
    {
      "cell_type": "code",
      "metadata": {
        "id": "LAsXtpzSmD94"
      },
      "source": [
        "y_pred = model.predict(X_test)\n"
      ],
      "execution_count": null,
      "outputs": []
    },
    {
      "cell_type": "code",
      "metadata": {
        "colab": {
          "base_uri": "https://localhost:8080/",
          "height": 81
        },
        "id": "cdtPul4ymLg8",
        "outputId": "31dd0674-16c8-4c68-dd23-d245384db050"
      },
      "source": [
        "grid_model = pd.DataFrame({\n",
        "    'model': ['XGBRegressor'],\n",
        "    'mae': [mean_absolute_error(y_test, y_pred)],\n",
        "    'mse': [mean_squared_error(y_test, y_pred)],\n",
        "    'rmse': [np.sqrt(metrics.mean_squared_error(y_test, y_pred))]\n",
        "    })\n",
        "grid_model"
      ],
      "execution_count": null,
      "outputs": [
        {
          "output_type": "execute_result",
          "data": {
            "text/html": [
              "<div>\n",
              "<style scoped>\n",
              "    .dataframe tbody tr th:only-of-type {\n",
              "        vertical-align: middle;\n",
              "    }\n",
              "\n",
              "    .dataframe tbody tr th {\n",
              "        vertical-align: top;\n",
              "    }\n",
              "\n",
              "    .dataframe thead th {\n",
              "        text-align: right;\n",
              "    }\n",
              "</style>\n",
              "<table border=\"1\" class=\"dataframe\">\n",
              "  <thead>\n",
              "    <tr style=\"text-align: right;\">\n",
              "      <th></th>\n",
              "      <th>model</th>\n",
              "      <th>mae</th>\n",
              "      <th>mse</th>\n",
              "      <th>rmse</th>\n",
              "    </tr>\n",
              "  </thead>\n",
              "  <tbody>\n",
              "    <tr>\n",
              "      <th>0</th>\n",
              "      <td>XGBRegressor</td>\n",
              "      <td>0.09626</td>\n",
              "      <td>0.266114</td>\n",
              "      <td>0.515863</td>\n",
              "    </tr>\n",
              "  </tbody>\n",
              "</table>\n",
              "</div>"
            ],
            "text/plain": [
              "          model      mae       mse      rmse\n",
              "0  XGBRegressor  0.09626  0.266114  0.515863"
            ]
          },
          "metadata": {},
          "execution_count": 27
        }
      ]
    }
  ]
}