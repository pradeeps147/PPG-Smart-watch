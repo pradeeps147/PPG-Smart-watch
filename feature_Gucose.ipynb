{
  "nbformat": 4,
  "nbformat_minor": 0,
  "metadata": {
    "colab": {
      "name": "feature_Gucose.ipynb",
      "provenance": []
    },
    "kernelspec": {
      "name": "python3",
      "display_name": "Python 3"
    },
    "language_info": {
      "name": "python"
    }
  },
  "cells": [
    {
      "cell_type": "code",
      "metadata": {
        "id": "N_cVl0X-zHYs"
      },
      "source": [
        "import pandas as pd\n",
        "import numpy as np\n",
        "import matplotlib.pyplot as plt\n",
        "import seaborn as sns\n",
        "import argparse\n",
        "from scipy.signal import argrelmax, argrelmin, firwin, convolve\n",
        "#import scipy as sc\n",
        "import csv\n",
        "import glob\n",
        "import os\n",
        "from scipy.signal import wiener, filtfilt, butter, gaussian, freqz,medfilt\n",
        "from scipy.ndimage import filters"
      ],
      "execution_count": null,
      "outputs": []
    },
    {
      "cell_type": "code",
      "metadata": {
        "id": "EMrgfEWGNUFg"
      },
      "source": [
        ""
      ],
      "execution_count": null,
      "outputs": []
    },
    {
      "cell_type": "code",
      "metadata": {
        "id": "ugoqOzRBt2Pz",
        "colab": {
          "base_uri": "https://localhost:8080/"
        },
        "outputId": "d764d30a-cd39-4018-d987-0e2b95a4a872"
      },
      "source": [
        "from google.colab import drive\n",
        "drive.mount('drive')"
      ],
      "execution_count": null,
      "outputs": [
        {
          "output_type": "stream",
          "name": "stdout",
          "text": [
            "Mounted at drive\n"
          ]
        }
      ]
    },
    {
      "cell_type": "code",
      "metadata": {
        "id": "9pXnIOScxQe8"
      },
      "source": [
        "root_dir = \"/content/drive/MyDrive/Pradeep_redpine/Saket_hospital_PPG_data(1)/Saket_hospital_PPG_data/\"\n",
        "data = 'AB_09.txt'\n",
        "ppg_raw_data= pd.read_csv(root_dir+data,sep=\"\\t\",skiprows=3)\n",
        "signal=ppg_raw_data.iloc[:,2][0:108000]\n",
        "signal=np.array(signal)"
      ],
      "execution_count": null,
      "outputs": []
    },
    {
      "cell_type": "code",
      "metadata": {
        "colab": {
          "base_uri": "https://localhost:8080/"
        },
        "id": "E888ROHPyFOD",
        "outputId": "dad24ead-7b2f-415d-c529-0194f55d5dea"
      },
      "source": [
        "#capturing the 3 minutes of data with sampling frequency of 600\n",
        "PPG_SAMPLE_RATE=600\n",
        "MINIMUM_PULSE_CYCLE = .50\n",
        "MAXIMUM_PULSE_CYCLE = 1.5\n",
        "PPG_FIR_FILTER_TAP_NUM = 600# erlier it was 200 for hypertension model\n",
        "PPG_FILTER_CUTOFF = [0.5,12 ]\n",
        "PPG_SYSTOLIC_PEAK_DETECTION_THRESHOLD_COEFFICIENT = .45\n",
        "t=np.linspace(0 ,len(signal)/PPG_SAMPLE_RATE,len(signal))\n",
        "len(t)/600\n"
      ],
      "execution_count": null,
      "outputs": [
        {
          "output_type": "execute_result",
          "data": {
            "text/plain": [
              "180.0"
            ]
          },
          "metadata": {},
          "execution_count": 4
        }
      ]
    },
    {
      "cell_type": "code",
      "metadata": {
        "id": "JJ6mxb7F6t0R"
      },
      "source": [
        "norm = signal - np.mean(signal)\n",
        "norm_sig = []\n",
        "min_ = norm.min()\n",
        "#print(min)\n",
        "max_ = norm.max()\n",
        "for val in norm:\n",
        "    norm_sig.append((val-min_)/(max_-min_))"
      ],
      "execution_count": null,
      "outputs": []
    },
    {
      "cell_type": "code",
      "metadata": {
        "colab": {
          "base_uri": "https://localhost:8080/",
          "height": 265
        },
        "id": "zSH8GrtZ66YN",
        "outputId": "29b13008-c5ea-42c4-fb5b-095702fff767"
      },
      "source": [
        "plt.figure(1)\n",
        "plt.plot(t,signal,label='raw_data')\n",
        "plt.legend()\n",
        "plt.show()"
      ],
      "execution_count": null,
      "outputs": [
        {
          "output_type": "display_data",
          "data": {
            "image/png": "[encoded data removed]",
            "text/plain": [
              "<Figure size 432x288 with 1 Axes>"
            ]
          },
          "metadata": {
            "needs_background": "light"
          }
        }
      ]
    },
    {
      "cell_type": "code",
      "metadata": {
        "id": "OHhRJn4M7LuT"
      },
      "source": [
        "def find_extrema(signal):\n",
        "    signal = np.array(signal)\n",
        "    extrema_index = np.sort(np.unique(np.concatenate((argrelmax(signal)[0], argrelmin(signal)[0]))))\n",
        "    extrema = signal[extrema_index]\n",
        "    return zip(extrema_index.tolist(), extrema.tolist()) "
      ],
      "execution_count": null,
      "outputs": []
    },
    {
      "cell_type": "code",
      "metadata": {
        "id": "20ak6NqP7Qlc"
      },
      "source": [
        "# Maxima and minima collectively known as extrema.Calculate the relative extrema of data.\n",
        "# argrelmax - Calculate the relative maxima of data.\n",
        "# argrelmin - Calculate the relative minima of data.\n",
        "\n",
        "def smooth_ppg_signal(signal, sample_rate=PPG_SAMPLE_RATE,window='hanning', numtaps=PPG_FIR_FILTER_TAP_NUM, cutoff=PPG_FILTER_CUTOFF):\n",
        "    if numtaps % 2 == 0:\n",
        "        numtaps += 1\n",
        "        print(numtaps)\n",
        "    return convolve(signal, firwin(numtaps, [x*2/sample_rate for x in cutoff], pass_zero=False), mode='valid')#.tolist()"
      ],
      "execution_count": null,
      "outputs": []
    },
    {
      "cell_type": "code",
      "metadata": {
        "id": "FutKR6vs7xSd"
      },
      "source": [
        "#FIR filter design.\n",
        "#This function computes the coefficients of a finite impulse response filter. The filter will have linear phase; it will be Type I if numtaps is odd and Type II if numtaps is even.\n",
        "#Type II filters always have zero response at the Nyquist rate, so a ValueError exception is raised if firwin is called with numtaps even and having a passband whose right end is at the Nyquist rate.\n",
        "\n",
        "#numtaps :Length of the filter (number of coefficients, i.e. the filter order + 1). numtaps must be even if a passband includes the Nyquist frequency.\n",
        "#pass_zero : bool,If True, the gain at the frequency 0 i.e. the “DC gain” is 1. Otherwise the DC gain is 0 and frequency 1.\n",
        "\n",
        "#The convolution is determined directly from sums.\n",
        "#print('Sayan')\n",
        "def validate_ppg_single_waveform(single_waveform, sample_rate=PPG_SAMPLE_RATE):\n",
        "    #print(single_waveform)\n",
        "    period = float(len(single_waveform)) / float(sample_rate)\n",
        "    #print('@@@@@@@@')\n",
        "    #print(period) \n",
        "    if period < MINIMUM_PULSE_CYCLE or period > MAXIMUM_PULSE_CYCLE:\n",
        "        return False\n",
        "    #print('#######')\n",
        "   # max_index = np.argmax(single_waveform)\n",
        "    #print(\"@@@@@@@@@@@@@@\",max_index)\n",
        "    #print(float(max_index) / float(len(single_waveform)))\n",
        "    #if float(max_index) / float(len(single_waveform)) >= .5:\n",
        "     #   return False\n",
        "    #print(len(argrelmax(np.array(single_waveform))[0]))\n",
        "    #if len(argrelmax(np.array(single_waveform))[0]) < .1:\n",
        "    #    return False\n",
        "   # min_index = np.argmin(single_waveform)\n",
        "    #print(min_index)\n",
        "    #print(len(single_waveform))\n",
        "    #if not (min_index == 0 or min_index == len(single_waveform) - 1):\n",
        "     #   return False\n",
        "    #diff = np.diff(single_waveform[:max_index+1], n=1)\n",
        "    #print(min(diff))\n",
        "    #if min(diff) < 0:\n",
        "    #    return False\n",
        "    #print( abs(single_waveform[0] - single_waveform[-1]) / (single_waveform[max_index] - single_waveform[min_index]))\n",
        "    #if abs(single_waveform[0] - single_waveform[-1]) / (single_waveform[max_index] - single_waveform[min_index]) > 0.1:\n",
        "     #   return False\n",
        "    return True\n"
      ],
      "execution_count": null,
      "outputs": []
    },
    {
      "cell_type": "code",
      "metadata": {
        "id": "hLhpsrGi70VT"
      },
      "source": [
        "def extract_ppg_single_waveform(signal, sample_rate=PPG_SAMPLE_RATE):\n",
        "    #print(signal)\n",
        "    t=np.linspace(0 ,len(signal)/PPG_SAMPLE_RATE,len(signal))\n",
        "    \n",
        "    plt.figure(2)\n",
        "    plt.plot(t,signal,label='filtered_data')\n",
        "    plt.legend()\n",
        "    plt.show()\n",
        "    \n",
        "#        with open('filterdata.csv', 'w') as writeFile:\n",
        "#             writer = csv.writer(writeFile)\n",
        "#             writer.writerows(map (lambda x:[x],signal))\n",
        "#        writeFile.close()\n",
        "    #print(max(signal),min(signal))\n",
        "    threshold = (max(signal) - min(signal)) * PPG_SYSTOLIC_PEAK_DETECTION_THRESHOLD_COEFFICIENT\n",
        "    #print(threshold)\n",
        "    single_waveforms = []\n",
        "    last_extremum_index = None\n",
        "    last_extremum = None\n",
        "    last_single_waveform_start_index = None\n",
        "    for extremum_index, extremum in find_extrema(signal=signal):\n",
        "        if last_extremum is not None and extremum - last_extremum > threshold:\n",
        "            #print(extremum - last_extremum)\n",
        "            if last_single_waveform_start_index is not None:\n",
        "                single_waveform = signal[last_single_waveform_start_index:last_extremum_index]\n",
        "                #print(validate_ppg_single_waveform(single_waveform=single_waveform, sample_rate=sample_rate))\n",
        "                if validate_ppg_single_waveform(single_waveform=single_waveform, sample_rate=sample_rate):\n",
        "                       single_waveforms.append(single_waveform)\n",
        "            last_single_waveform_start_index = last_extremum_index\n",
        "        last_extremum_index = extremum_index\n",
        "        last_extremum = extremum\n",
        "    return single_waveforms "
      ],
      "execution_count": null,
      "outputs": []
    },
    {
      "cell_type": "code",
      "metadata": {
        "colab": {
          "base_uri": "https://localhost:8080/",
          "height": 283
        },
        "id": "eg2iGbcY8Dxa",
        "outputId": "19d068d4-512d-4b8d-9206-4ae8b2c06c8f"
      },
      "source": [
        "signal_wav = extract_ppg_single_waveform(signal=smooth_ppg_signal(norm_sig,sample_rate=PPG_SAMPLE_RATE))\n",
        " #   s = sc.stats.skew(signal_wav)\n",
        "   # print(signal_wav)\n",
        "   # with open('signaldata.csv', 'w') as writeFile:\n",
        "#         writer = csv.writer(writeFile)\n",
        "#         writer.writerows(map (lambda x:[x],signal_wav))\n",
        "#writeFile.close()\n",
        "#plt.figure(2)\n",
        "#plt.plot(signal_wav[0],'b')\n",
        "#plt.show()\n",
        "# -*- coding: utf-8 -*-\n",
        "#plt.figure(2)\n",
        "#plt.plot(signal_wav[0],'b')\n",
        "#plt.show()\n"
      ],
      "execution_count": null,
      "outputs": [
        {
          "output_type": "stream",
          "name": "stdout",
          "text": [
            "601\n"
          ]
        },
        {
          "output_type": "display_data",
          "data": {
            "image/png": "[encoded data removed]",
            "text/plain": [
              "<Figure size 432x288 with 1 Axes>"
            ]
          },
          "metadata": {
            "needs_background": "light"
          }
        }
      ]
    },
    {
      "cell_type": "code",
      "metadata": {
        "id": "IbYWzqE98To_"
      },
      "source": [
        "def extract_ppg45(single_waveform, sample_rate=PPG_SAMPLE_RATE):\n",
        "    #print(\"doctor@@@@@@@\")\n",
        "    #plt.figure()\n",
        "    #plt.plot(single_waveform,'c')\n",
        "    #plt.show() \n",
        "    def __next_pow2(x):\n",
        "        return 1<<(x-1).bit_length()\n",
        "    features = []\n",
        "    maxima_index = argrelmax(np.array(single_waveform))[0]\n",
        "    #print(maxima_index)\n",
        "    minima_index = argrelmin(np.array(single_waveform))[0]\n",
        "    #print(len(maxima_index),len(minima_index))\n",
        "    derivative_1 = np.diff(single_waveform, n=1) * float(sample_rate)\n",
        "    derivative_1_maxima_index = argrelmax(np.array(derivative_1))[0]\n",
        "    derivative_1_minima_index = argrelmin(np.array(derivative_1))[0]\n",
        "    derivative_2 = np.diff(single_waveform, n=2) * float(sample_rate)\n",
        "    derivative_2_maxima_index = argrelmax(np.array(derivative_2))[0]\n",
        "    derivative_2_minima_index = argrelmin(np.array(derivative_2))[0]\n",
        "    sp_mag = np.abs(np.fft.fft(single_waveform, n=__next_pow2(len(single_waveform))*16))\n",
        "    #print(sp_mag)\n",
        "    #print(\"-----------------------\")\n",
        "    #print(len(single_waveform))\n",
        "    #print(__next_pow2(len(single_waveform))*16)\n",
        "    #print(\"-----------------------\")\n",
        "    freqs = np.fft.fftfreq(len(sp_mag))\n",
        "    sp_mag_maxima_index = argrelmax(sp_mag)[0]\n",
        "    #print(sp_mag_maxima_index)\n",
        "    \n",
        "    # x\n",
        "    x = single_waveform[maxima_index[0]]\n",
        "    features.append(x)\n",
        "    #print(\"sssssssssssssssssssssss\",x)\n",
        "    # y\n",
        "    if(len(maxima_index)) < 2 or len(maxima_index) <1 :\n",
        "        return\n",
        "    y = single_waveform[maxima_index[1]]\n",
        "\n",
        "    features.append(y)\n",
        "    # z\n",
        "    z = single_waveform[minima_index[0]]\n",
        "    features.append(z)\n",
        "    # t_pi\n",
        "    t_pi = float(len(single_waveform)) / float(sample_rate)\n",
        "    features.append(t_pi)\n",
        "    # y/x\n",
        "    features.append(y / x)\n",
        "    # (x-y)/x\n",
        "    features.append((x - y) / x)\n",
        "    # z/x\n",
        "    features.append(z / x)\n",
        "    # (y-z)/x\n",
        "    features.append((y - z) / x)\n",
        "    # t_1\n",
        "    t_1 = float(maxima_index[0] + 1) / float(sample_rate)\n",
        "    features.append(t_1)\n",
        "    # t_2\n",
        "    t_2 = float(minima_index[0] + 1) / float(sample_rate)\n",
        "    features.append(t_2)\n",
        "    # t_3\n",
        "    t_3 = float(maxima_index[1] + 1) / float(sample_rate)\n",
        "    features.append(t_3)\n",
        "    # delta_t\n",
        "    delta_t = t_3 - t_2\n",
        "    features.append(delta_t)\n",
        "    # width\n",
        "    single_waveform_halfmax = max(single_waveform) / 2\n",
        "    width = 0\n",
        "    for value in single_waveform[maxima_index[0]::-1]:\n",
        "        if value >= single_waveform_halfmax:\n",
        "            width += 1\n",
        "        else:\n",
        "            break\n",
        "    for value in single_waveform[maxima_index[0]+1:]:\n",
        "        if value >= single_waveform_halfmax:\n",
        "            width += 1\n",
        "        else:\n",
        "            break\n",
        "    features.append(float(width) / float(sample_rate))\n",
        "    # A_2/A_1\n",
        "    features.append(sum(single_waveform[:maxima_index[0]]) / sum(single_waveform[maxima_index[0]:]))\n",
        "    # t_1/x\n",
        "    features.append(t_1 / x)\n",
        "    # y/(t_pi-t_3)\n",
        "    features.append(y / (t_pi - t_3))\n",
        "    # t_1/t_pi\n",
        "    features.append(t_1 / t_pi)\n",
        "    # t_2/t_pi\n",
        "    features.append(t_2 / t_pi)\n",
        "    # t_3/t_pi\n",
        "    features.append(t_3 / t_pi)\n",
        "    # delta_t/t_pi\n",
        "    features.append(delta_t / t_pi)\n",
        "    # t_a1\n",
        "    t_a1 = float(derivative_1_maxima_index[0]) / float(sample_rate)\n",
        "    features.append(t_a1)\n",
        "    # t_b1\n",
        "    t_b1 = float(derivative_1_minima_index[0]) / float(sample_rate)\n",
        "    features.append(t_b1)\n",
        "    # t_e1\n",
        "    t_e1 = float(derivative_1_maxima_index[1]) / float(sample_rate)\n",
        "    features.append(t_e1)\n",
        "    # t_f1\n",
        "    t_f1 = float(derivative_1_minima_index[1]) / float(sample_rate)\n",
        "    features.append(t_f1)\n",
        "    # b_2/a_2\n",
        "    a_2 = derivative_2[derivative_2_maxima_index[0]]\n",
        "    b_2 = derivative_2[derivative_2_minima_index[0]]\n",
        "    features.append(b_2 / a_2)\n",
        "    # e_2/a_2\n",
        "    if len(derivative_2_maxima_index) < 2 & len(derivative_2_maxima_index) < 1:\n",
        "        return\n",
        "    e_2 = derivative_2[derivative_2_maxima_index[1]]\n",
        "    features.append(e_2 / a_2)\n",
        "    # (b_2+e_2)/a_2\n",
        "    features.append((b_2 + e_2) / a_2)\n",
        "    # t_a2\n",
        "    t_a2 = float(derivative_2_maxima_index[0]) / float(sample_rate)\n",
        "    features.append(t_a2)\n",
        "    # t_b2\n",
        "    t_b2 = float(derivative_2_minima_index[0]) / float(sample_rate)\n",
        "    features.append(t_b2)\n",
        "    # t_a1/t_pi\n",
        "    features.append(t_a1 / t_pi)\n",
        "    # t_b1/t_pi\n",
        "    features.append(t_b1 / t_pi)\n",
        "    # t_e1/t_pi\n",
        "    features.append(t_e1 / t_pi)\n",
        "    # t_f1/t_pi\n",
        "    features.append(t_f1 / t_pi)\n",
        "    # t_a2/t_pi\n",
        "    features.append(t_a2 / t_pi)\n",
        "    # t_b2/t_pi\n",
        "    features.append(t_b2 / t_pi)\n",
        "    # (t_a1-t_a2)/t_pi\n",
        "    features.append((t_a1 - t_a2) / t_pi)\n",
        "    # (t_b1-t_b2)/t_pi\n",
        "    features.append((t_b1 - t_b2) / t_pi)\n",
        "    # (t_e1-t_2)/t_pi\n",
        "    features.append((t_e1 - t_2) / t_pi)\n",
        "    # (t_f1-t_3)/t_pi\n",
        "    features.append((t_f1 - t_3) / t_pi)\n",
        "    # f_base \n",
        "    f_base = freqs[sp_mag_maxima_index[0]] * sample_rate\n",
        "    features.append(f_base)\n",
        "    # sp_mag_base\n",
        "    sp_mag_base = sp_mag[sp_mag_maxima_index[0]] / len(single_waveform)\n",
        "    features.append(sp_mag_base)\n",
        "    # f_2\n",
        "    f_2 = freqs[sp_mag_maxima_index[1]] * sample_rate\n",
        "    features.append(f_2)\n",
        "    # sp_mag_2\n",
        "    sp_mag_2 = sp_mag[sp_mag_maxima_index[1]] / len(single_waveform)\n",
        "    features.append(sp_mag_2)\n",
        "    # f_3   \n",
        "\n",
        "\n",
        "\n",
        "    f_3 = freqs[sp_mag_maxima_index[2]] * sample_rate\n",
        "    features.append(f_3)\n",
        "    # sp_mag_3\n",
        "    sp_mag_3 = sp_mag[sp_mag_maxima_index[2]] / len(single_waveform)\n",
        "    features.append(sp_mag_3)\n",
        "    return features\n",
        "\n"
      ],
      "execution_count": null,
      "outputs": []
    },
    {
      "cell_type": "code",
      "metadata": {
        "id": "ISQtYf2E8akw",
        "colab": {
          "base_uri": "https://localhost:8080/",
          "height": 413
        },
        "outputId": "e8f77aeb-578e-448d-93cb-e53be9e4db85"
      },
      "source": [
        "signal_feat = pd.DataFrame()\n",
        "signal_feat['ppg45', 'pradeep'] = [extract_ppg45(single_waveform=single_waveform,sample_rate=PPG_SAMPLE_RATE) for single_waveform in signal_wav]\n",
        "signal_feat = signal_feat.dropna()\n",
        "#print(signal_wav)\n",
        "#print(signal_feat.size)\n",
        "\n",
        "header_column=[]\n",
        "if(signal_feat.size > 0):\n",
        "    signal_feat.to_csv(\"/content/drive/MyDrive/Pradeep_redpine/Saket_hospital_PPG_data(1)/Feature_BG/Feature_BG_09.csv\",header = False, sep='\\t', mode = 'a', index=False)\n",
        "#\n",
        "\n",
        "\n"
      ],
      "execution_count": null,
      "outputs": [
        {
          "output_type": "error",
          "ename": "IndexError",
          "evalue": "ignored",
          "traceback": [
            "\u001b[0;31m---------------------------------------------------------------------------\u001b[0m",
            "\u001b[0;31mIndexError\u001b[0m                                Traceback (most recent call last)",
            "\u001b[0;32m<ipython-input-13-9be1f14c9121>\u001b[0m in \u001b[0;36m<module>\u001b[0;34m()\u001b[0m\n\u001b[1;32m      1\u001b[0m \u001b[0msignal_feat\u001b[0m \u001b[0;34m=\u001b[0m \u001b[0mpd\u001b[0m\u001b[0;34m.\u001b[0m\u001b[0mDataFrame\u001b[0m\u001b[0;34m(\u001b[0m\u001b[0;34m)\u001b[0m\u001b[0;34m\u001b[0m\u001b[0;34m\u001b[0m\u001b[0m\n\u001b[0;32m----> 2\u001b[0;31m \u001b[0msignal_feat\u001b[0m\u001b[0;34m[\u001b[0m\u001b[0;34m'ppg45'\u001b[0m\u001b[0;34m,\u001b[0m \u001b[0;34m'pradeep'\u001b[0m\u001b[0;34m]\u001b[0m \u001b[0;34m=\u001b[0m \u001b[0;34m[\u001b[0m\u001b[0mextract_ppg45\u001b[0m\u001b[0;34m(\u001b[0m\u001b[0msingle_waveform\u001b[0m\u001b[0;34m=\u001b[0m\u001b[0msingle_waveform\u001b[0m\u001b[0;34m,\u001b[0m\u001b[0msample_rate\u001b[0m\u001b[0;34m=\u001b[0m\u001b[0mPPG_SAMPLE_RATE\u001b[0m\u001b[0;34m)\u001b[0m \u001b[0;32mfor\u001b[0m \u001b[0msingle_waveform\u001b[0m \u001b[0;32min\u001b[0m \u001b[0msignal_wav\u001b[0m\u001b[0;34m]\u001b[0m\u001b[0;34m\u001b[0m\u001b[0;34m\u001b[0m\u001b[0m\n\u001b[0m\u001b[1;32m      3\u001b[0m \u001b[0msignal_feat\u001b[0m \u001b[0;34m=\u001b[0m \u001b[0msignal_feat\u001b[0m\u001b[0;34m.\u001b[0m\u001b[0mdropna\u001b[0m\u001b[0;34m(\u001b[0m\u001b[0;34m)\u001b[0m\u001b[0;34m\u001b[0m\u001b[0;34m\u001b[0m\u001b[0m\n\u001b[1;32m      4\u001b[0m \u001b[0;31m#print(signal_wav)\u001b[0m\u001b[0;34m\u001b[0m\u001b[0;34m\u001b[0m\u001b[0;34m\u001b[0m\u001b[0m\n\u001b[1;32m      5\u001b[0m \u001b[0;31m#print(signal_feat.size)\u001b[0m\u001b[0;34m\u001b[0m\u001b[0;34m\u001b[0m\u001b[0;34m\u001b[0m\u001b[0m\n",
            "\u001b[0;32m<ipython-input-13-9be1f14c9121>\u001b[0m in \u001b[0;36m<listcomp>\u001b[0;34m(.0)\u001b[0m\n\u001b[1;32m      1\u001b[0m \u001b[0msignal_feat\u001b[0m \u001b[0;34m=\u001b[0m \u001b[0mpd\u001b[0m\u001b[0;34m.\u001b[0m\u001b[0mDataFrame\u001b[0m\u001b[0;34m(\u001b[0m\u001b[0;34m)\u001b[0m\u001b[0;34m\u001b[0m\u001b[0;34m\u001b[0m\u001b[0m\n\u001b[0;32m----> 2\u001b[0;31m \u001b[0msignal_feat\u001b[0m\u001b[0;34m[\u001b[0m\u001b[0;34m'ppg45'\u001b[0m\u001b[0;34m,\u001b[0m \u001b[0;34m'pradeep'\u001b[0m\u001b[0;34m]\u001b[0m \u001b[0;34m=\u001b[0m \u001b[0;34m[\u001b[0m\u001b[0mextract_ppg45\u001b[0m\u001b[0;34m(\u001b[0m\u001b[0msingle_waveform\u001b[0m\u001b[0;34m=\u001b[0m\u001b[0msingle_waveform\u001b[0m\u001b[0;34m,\u001b[0m\u001b[0msample_rate\u001b[0m\u001b[0;34m=\u001b[0m\u001b[0mPPG_SAMPLE_RATE\u001b[0m\u001b[0;34m)\u001b[0m \u001b[0;32mfor\u001b[0m \u001b[0msingle_waveform\u001b[0m \u001b[0;32min\u001b[0m \u001b[0msignal_wav\u001b[0m\u001b[0;34m]\u001b[0m\u001b[0;34m\u001b[0m\u001b[0;34m\u001b[0m\u001b[0m\n\u001b[0m\u001b[1;32m      3\u001b[0m \u001b[0msignal_feat\u001b[0m \u001b[0;34m=\u001b[0m \u001b[0msignal_feat\u001b[0m\u001b[0;34m.\u001b[0m\u001b[0mdropna\u001b[0m\u001b[0;34m(\u001b[0m\u001b[0;34m)\u001b[0m\u001b[0;34m\u001b[0m\u001b[0;34m\u001b[0m\u001b[0m\n\u001b[1;32m      4\u001b[0m \u001b[0;31m#print(signal_wav)\u001b[0m\u001b[0;34m\u001b[0m\u001b[0;34m\u001b[0m\u001b[0;34m\u001b[0m\u001b[0m\n\u001b[1;32m      5\u001b[0m \u001b[0;31m#print(signal_feat.size)\u001b[0m\u001b[0;34m\u001b[0m\u001b[0;34m\u001b[0m\u001b[0;34m\u001b[0m\u001b[0m\n",
            "\u001b[0;32m<ipython-input-12-f5d94155891e>\u001b[0m in \u001b[0;36mextract_ppg45\u001b[0;34m(single_waveform, sample_rate)\u001b[0m\n\u001b[1;32m    101\u001b[0m     \u001b[0mfeatures\u001b[0m\u001b[0;34m.\u001b[0m\u001b[0mappend\u001b[0m\u001b[0;34m(\u001b[0m\u001b[0mt_e1\u001b[0m\u001b[0;34m)\u001b[0m\u001b[0;34m\u001b[0m\u001b[0;34m\u001b[0m\u001b[0m\n\u001b[1;32m    102\u001b[0m     \u001b[0;31m# t_f1\u001b[0m\u001b[0;34m\u001b[0m\u001b[0;34m\u001b[0m\u001b[0;34m\u001b[0m\u001b[0m\n\u001b[0;32m--> 103\u001b[0;31m     \u001b[0mt_f1\u001b[0m \u001b[0;34m=\u001b[0m \u001b[0mfloat\u001b[0m\u001b[0;34m(\u001b[0m\u001b[0mderivative_1_minima_index\u001b[0m\u001b[0;34m[\u001b[0m\u001b[0;36m1\u001b[0m\u001b[0;34m]\u001b[0m\u001b[0;34m)\u001b[0m \u001b[0;34m/\u001b[0m \u001b[0mfloat\u001b[0m\u001b[0;34m(\u001b[0m\u001b[0msample_rate\u001b[0m\u001b[0;34m)\u001b[0m\u001b[0;34m\u001b[0m\u001b[0;34m\u001b[0m\u001b[0m\n\u001b[0m\u001b[1;32m    104\u001b[0m     \u001b[0mfeatures\u001b[0m\u001b[0;34m.\u001b[0m\u001b[0mappend\u001b[0m\u001b[0;34m(\u001b[0m\u001b[0mt_f1\u001b[0m\u001b[0;34m)\u001b[0m\u001b[0;34m\u001b[0m\u001b[0;34m\u001b[0m\u001b[0m\n\u001b[1;32m    105\u001b[0m     \u001b[0;31m# b_2/a_2\u001b[0m\u001b[0;34m\u001b[0m\u001b[0;34m\u001b[0m\u001b[0;34m\u001b[0m\u001b[0m\n",
            "\u001b[0;31mIndexError\u001b[0m: index 1 is out of bounds for axis 0 with size 1"
          ]
        }
      ]
    }
  ]
}