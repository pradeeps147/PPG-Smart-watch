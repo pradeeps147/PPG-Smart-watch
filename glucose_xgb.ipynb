{
  "nbformat": 4,
  "nbformat_minor": 0,
  "metadata": {
    "colab": {
      "name": "glucose_xgb.ipynb",
      "provenance": []
    },
    "kernelspec": {
      "name": "python3",
      "display_name": "Python 3"
    },
    "language_info": {
      "name": "python"
    }
  },
  "cells": [
    {
      "cell_type": "code",
      "metadata": {
        "id": "PuFsNMnId31o"
      },
      "source": [
        "import pandas as pd\n",
        "import numpy as np"
      ],
      "execution_count": null,
      "outputs": []
    },
    {
      "cell_type": "code",
      "metadata": {
        "colab": {
          "base_uri": "https://localhost:8080/"
        },
        "id": "iuL03LK-dGBL",
        "outputId": "62034f05-5393-4b70-e014-205103d5d492"
      },
      "source": [
        "from google.colab import drive\n",
        "drive.mount('drive')"
      ],
      "execution_count": null,
      "outputs": [
        {
          "output_type": "stream",
          "name": "stdout",
          "text": [
            "Drive already mounted at drive; to attempt to forcibly remount, call drive.mount(\"drive\", force_remount=True).\n"
          ]
        }
      ]
    },
    {
      "cell_type": "code",
      "metadata": {
        "colab": {
          "base_uri": "https://localhost:8080/",
          "height": 225
        },
        "id": "ZAWi51f5dLDN",
        "outputId": "9ad5cf30-eb46-4392-f915-e259b409f4a2"
      },
      "source": [
        "path = \"/content/drive/MyDrive/Pradeep_redpine/Documents/\"\n",
        "master_data= pd.read_csv(path + 'master_data.csv')\n",
        "\n",
        "master_data.head()"
      ],
      "execution_count": null,
      "outputs": [
        {
          "output_type": "execute_result",
          "data": {
            "text/html": [
              "<div>\n",
              "<style scoped>\n",
              "    .dataframe tbody tr th:only-of-type {\n",
              "        vertical-align: middle;\n",
              "    }\n",
              "\n",
              "    .dataframe tbody tr th {\n",
              "        vertical-align: top;\n",
              "    }\n",
              "\n",
              "    .dataframe thead th {\n",
              "        text-align: right;\n",
              "    }\n",
              "</style>\n",
              "<table border=\"1\" class=\"dataframe\">\n",
              "  <thead>\n",
              "    <tr style=\"text-align: right;\">\n",
              "      <th></th>\n",
              "      <th>a</th>\n",
              "      <th>b</th>\n",
              "      <th>c</th>\n",
              "      <th>d</th>\n",
              "      <th>e</th>\n",
              "      <th>f</th>\n",
              "      <th>g</th>\n",
              "      <th>h</th>\n",
              "      <th>i</th>\n",
              "      <th>j</th>\n",
              "      <th>k</th>\n",
              "      <th>l</th>\n",
              "      <th>m</th>\n",
              "      <th>n</th>\n",
              "      <th>o</th>\n",
              "      <th>p</th>\n",
              "      <th>q</th>\n",
              "      <th>r</th>\n",
              "      <th>s</th>\n",
              "      <th>t</th>\n",
              "      <th>u</th>\n",
              "      <th>v</th>\n",
              "      <th>w</th>\n",
              "      <th>x</th>\n",
              "      <th>y</th>\n",
              "      <th>z</th>\n",
              "      <th>aa</th>\n",
              "      <th>ab</th>\n",
              "      <th>ac</th>\n",
              "      <th>ad</th>\n",
              "      <th>ae</th>\n",
              "      <th>af</th>\n",
              "      <th>ag</th>\n",
              "      <th>ah</th>\n",
              "      <th>ai</th>\n",
              "      <th>aj</th>\n",
              "      <th>ak</th>\n",
              "      <th>al</th>\n",
              "      <th>am</th>\n",
              "      <th>an</th>\n",
              "      <th>ao</th>\n",
              "      <th>ap</th>\n",
              "      <th>aq</th>\n",
              "      <th>ar</th>\n",
              "      <th>as</th>\n",
              "      <th>label</th>\n",
              "    </tr>\n",
              "  </thead>\n",
              "  <tbody>\n",
              "    <tr>\n",
              "      <th>0</th>\n",
              "      <td>0.759328</td>\n",
              "      <td>0.051102</td>\n",
              "      <td>0.050447</td>\n",
              "      <td>0.691667</td>\n",
              "      <td>0.067299</td>\n",
              "      <td>0.932701</td>\n",
              "      <td>0.066436</td>\n",
              "      <td>0.000863</td>\n",
              "      <td>0.148333</td>\n",
              "      <td>0.616667</td>\n",
              "      <td>0.640000</td>\n",
              "      <td>0.023333</td>\n",
              "      <td>0.230000</td>\n",
              "      <td>0.399393</td>\n",
              "      <td>0.195348</td>\n",
              "      <td>0.989070</td>\n",
              "      <td>0.214458</td>\n",
              "      <td>0.891566</td>\n",
              "      <td>0.925301</td>\n",
              "      <td>0.033735</td>\n",
              "      <td>0.066667</td>\n",
              "      <td>0.268333</td>\n",
              "      <td>0.390000</td>\n",
              "      <td>0.436667</td>\n",
              "      <td>-0.782787</td>\n",
              "      <td>-0.091628</td>\n",
              "      <td>-0.874415</td>\n",
              "      <td>0.028333</td>\n",
              "      <td>0.103333</td>\n",
              "      <td>0.096386</td>\n",
              "      <td>0.387952</td>\n",
              "      <td>0.563855</td>\n",
              "      <td>0.631325</td>\n",
              "      <td>0.040964</td>\n",
              "      <td>0.149398</td>\n",
              "      <td>0.055422</td>\n",
              "      <td>0.238554</td>\n",
              "      <td>-0.327711</td>\n",
              "      <td>-0.293976</td>\n",
              "      <td>5.419922</td>\n",
              "      <td>0.015931</td>\n",
              "      <td>4.815900</td>\n",
              "      <td>0.009824</td>\n",
              "      <td>8.935547</td>\n",
              "      <td>0.003691</td>\n",
              "      <td>109</td>\n",
              "    </tr>\n",
              "    <tr>\n",
              "      <th>1</th>\n",
              "      <td>0.901039</td>\n",
              "      <td>0.236481</td>\n",
              "      <td>0.234768</td>\n",
              "      <td>0.666667</td>\n",
              "      <td>0.262454</td>\n",
              "      <td>0.737546</td>\n",
              "      <td>0.260552</td>\n",
              "      <td>0.001901</td>\n",
              "      <td>0.156667</td>\n",
              "      <td>0.493333</td>\n",
              "      <td>0.513333</td>\n",
              "      <td>0.020000</td>\n",
              "      <td>0.263333</td>\n",
              "      <td>0.390981</td>\n",
              "      <td>0.173873</td>\n",
              "      <td>1.542268</td>\n",
              "      <td>0.235000</td>\n",
              "      <td>0.740000</td>\n",
              "      <td>0.770000</td>\n",
              "      <td>0.030000</td>\n",
              "      <td>0.071667</td>\n",
              "      <td>0.295000</td>\n",
              "      <td>0.390000</td>\n",
              "      <td>0.445000</td>\n",
              "      <td>-0.772208</td>\n",
              "      <td>-0.045414</td>\n",
              "      <td>-0.817622</td>\n",
              "      <td>0.033333</td>\n",
              "      <td>0.113333</td>\n",
              "      <td>0.107500</td>\n",
              "      <td>0.442500</td>\n",
              "      <td>0.585000</td>\n",
              "      <td>0.667500</td>\n",
              "      <td>0.050000</td>\n",
              "      <td>0.170000</td>\n",
              "      <td>0.057500</td>\n",
              "      <td>0.272500</td>\n",
              "      <td>-0.155000</td>\n",
              "      <td>-0.102500</td>\n",
              "      <td>3.881836</td>\n",
              "      <td>0.031337</td>\n",
              "      <td>5.712891</td>\n",
              "      <td>0.015067</td>\n",
              "      <td>7.910156</td>\n",
              "      <td>0.010668</td>\n",
              "      <td>109</td>\n",
              "    </tr>\n",
              "    <tr>\n",
              "      <th>2</th>\n",
              "      <td>0.881105</td>\n",
              "      <td>0.172121</td>\n",
              "      <td>0.164977</td>\n",
              "      <td>0.665000</td>\n",
              "      <td>0.195347</td>\n",
              "      <td>0.804653</td>\n",
              "      <td>0.187238</td>\n",
              "      <td>0.008109</td>\n",
              "      <td>0.151667</td>\n",
              "      <td>0.578333</td>\n",
              "      <td>0.613333</td>\n",
              "      <td>0.035000</td>\n",
              "      <td>0.246667</td>\n",
              "      <td>0.378558</td>\n",
              "      <td>0.172132</td>\n",
              "      <td>3.331376</td>\n",
              "      <td>0.228070</td>\n",
              "      <td>0.869674</td>\n",
              "      <td>0.922306</td>\n",
              "      <td>0.052632</td>\n",
              "      <td>0.070000</td>\n",
              "      <td>0.191667</td>\n",
              "      <td>0.221667</td>\n",
              "      <td>0.285000</td>\n",
              "      <td>-0.790663</td>\n",
              "      <td>0.098534</td>\n",
              "      <td>-0.692129</td>\n",
              "      <td>0.031667</td>\n",
              "      <td>0.111667</td>\n",
              "      <td>0.105263</td>\n",
              "      <td>0.288221</td>\n",
              "      <td>0.333333</td>\n",
              "      <td>0.428571</td>\n",
              "      <td>0.047619</td>\n",
              "      <td>0.167920</td>\n",
              "      <td>0.057644</td>\n",
              "      <td>0.120301</td>\n",
              "      <td>-0.536341</td>\n",
              "      <td>-0.493734</td>\n",
              "      <td>5.712891</td>\n",
              "      <td>0.017359</td>\n",
              "      <td>7.910156</td>\n",
              "      <td>0.013072</td>\n",
              "      <td>9.741211</td>\n",
              "      <td>0.004527</td>\n",
              "      <td>109</td>\n",
              "    </tr>\n",
              "    <tr>\n",
              "      <th>3</th>\n",
              "      <td>0.849716</td>\n",
              "      <td>0.135928</td>\n",
              "      <td>0.135301</td>\n",
              "      <td>0.683333</td>\n",
              "      <td>0.159969</td>\n",
              "      <td>0.840031</td>\n",
              "      <td>0.159231</td>\n",
              "      <td>0.000738</td>\n",
              "      <td>0.150000</td>\n",
              "      <td>0.620000</td>\n",
              "      <td>0.638333</td>\n",
              "      <td>0.018333</td>\n",
              "      <td>0.253333</td>\n",
              "      <td>0.374591</td>\n",
              "      <td>0.176530</td>\n",
              "      <td>3.020625</td>\n",
              "      <td>0.219512</td>\n",
              "      <td>0.907317</td>\n",
              "      <td>0.934146</td>\n",
              "      <td>0.026829</td>\n",
              "      <td>0.066667</td>\n",
              "      <td>0.281667</td>\n",
              "      <td>0.411667</td>\n",
              "      <td>0.460000</td>\n",
              "      <td>-0.823851</td>\n",
              "      <td>-0.109789</td>\n",
              "      <td>-0.933639</td>\n",
              "      <td>0.030000</td>\n",
              "      <td>0.103333</td>\n",
              "      <td>0.097561</td>\n",
              "      <td>0.412195</td>\n",
              "      <td>0.602439</td>\n",
              "      <td>0.673171</td>\n",
              "      <td>0.043902</td>\n",
              "      <td>0.151220</td>\n",
              "      <td>0.053659</td>\n",
              "      <td>0.260976</td>\n",
              "      <td>-0.304878</td>\n",
              "      <td>-0.260976</td>\n",
              "      <td>5.566406</td>\n",
              "      <td>0.018040</td>\n",
              "      <td>7.250977</td>\n",
              "      <td>0.008889</td>\n",
              "      <td>9.301758</td>\n",
              "      <td>0.005885</td>\n",
              "      <td>109</td>\n",
              "    </tr>\n",
              "    <tr>\n",
              "      <th>4</th>\n",
              "      <td>0.825774</td>\n",
              "      <td>0.139097</td>\n",
              "      <td>0.128035</td>\n",
              "      <td>0.675000</td>\n",
              "      <td>0.168444</td>\n",
              "      <td>0.831556</td>\n",
              "      <td>0.155049</td>\n",
              "      <td>0.013395</td>\n",
              "      <td>0.141667</td>\n",
              "      <td>0.586667</td>\n",
              "      <td>0.625000</td>\n",
              "      <td>0.038333</td>\n",
              "      <td>0.246667</td>\n",
              "      <td>0.342140</td>\n",
              "      <td>0.171556</td>\n",
              "      <td>2.781934</td>\n",
              "      <td>0.209877</td>\n",
              "      <td>0.869136</td>\n",
              "      <td>0.925926</td>\n",
              "      <td>0.056790</td>\n",
              "      <td>0.066667</td>\n",
              "      <td>0.268333</td>\n",
              "      <td>0.386667</td>\n",
              "      <td>0.433333</td>\n",
              "      <td>-0.865143</td>\n",
              "      <td>-0.061857</td>\n",
              "      <td>-0.927000</td>\n",
              "      <td>0.028333</td>\n",
              "      <td>0.103333</td>\n",
              "      <td>0.098765</td>\n",
              "      <td>0.397531</td>\n",
              "      <td>0.572840</td>\n",
              "      <td>0.641975</td>\n",
              "      <td>0.041975</td>\n",
              "      <td>0.153086</td>\n",
              "      <td>0.056790</td>\n",
              "      <td>0.244444</td>\n",
              "      <td>-0.296296</td>\n",
              "      <td>-0.283951</td>\n",
              "      <td>5.639648</td>\n",
              "      <td>0.017666</td>\n",
              "      <td>7.324219</td>\n",
              "      <td>0.011704</td>\n",
              "      <td>9.448242</td>\n",
              "      <td>0.006146</td>\n",
              "      <td>109</td>\n",
              "    </tr>\n",
              "  </tbody>\n",
              "</table>\n",
              "</div>"
            ],
            "text/plain": [
              "          a         b         c         d  ...        aq        ar        as  label\n",
              "0  0.759328  0.051102  0.050447  0.691667  ...  0.009824  8.935547  0.003691    109\n",
              "1  0.901039  0.236481  0.234768  0.666667  ...  0.015067  7.910156  0.010668    109\n",
              "2  0.881105  0.172121  0.164977  0.665000  ...  0.013072  9.741211  0.004527    109\n",
              "3  0.849716  0.135928  0.135301  0.683333  ...  0.008889  9.301758  0.005885    109\n",
              "4  0.825774  0.139097  0.128035  0.675000  ...  0.011704  9.448242  0.006146    109\n",
              "\n",
              "[5 rows x 46 columns]"
            ]
          },
          "metadata": {},
          "execution_count": 19
        }
      ]
    },
    {
      "cell_type": "code",
      "metadata": {
        "colab": {
          "base_uri": "https://localhost:8080/"
        },
        "id": "ZzKPpWpsdLyk",
        "outputId": "82b102bd-0c53-4556-d77b-77a50d77ad41"
      },
      "source": [
        "import xgboost as xgb\n",
        "from sklearn.datasets import load_boston\n",
        "from sklearn.model_selection import train_test_split\n",
        "from sklearn.model_selection import cross_val_score, KFold\n",
        "from sklearn.metrics import mean_squared_error\n",
        "import matplotlib.pyplot as plt \n",
        " \n",
        "X=master_data.iloc[:,0:46][0:].to_numpy()\n",
        "\n",
        "y=master_data.iloc[:,-1][0:].to_numpy()\n",
        "y=y.reshape(-1,1)\n",
        "\n",
        "#len(X),len(y)\n",
        "xtrain, xtest, ytrain, ytest = train_test_split(X, y, test_size=0.20)\n",
        "\n",
        "xgbr = xgb.XGBRegressor(verbosity=0)\n",
        "print(xgbr)\n",
        "\n",
        "xgbr.fit(xtrain, ytrain)\n",
        " \n",
        "score = xgbr.score(xtrain, ytrain)   \n",
        "print(\"Training score: \", score) \n",
        " \n",
        "# - cross validataion \n",
        "scores = cross_val_score(xgbr, xtrain, ytrain, cv=5)\n",
        "print(\"Mean cross-validation score: %.2f\" % scores.mean())\n",
        "\n",
        "\n",
        " \n"
      ],
      "execution_count": null,
      "outputs": [
        {
          "output_type": "stream",
          "name": "stdout",
          "text": [
            "XGBRegressor(base_score=0.5, booster='gbtree', colsample_bylevel=1,\n",
            "             colsample_bynode=1, colsample_bytree=1, gamma=0,\n",
            "             importance_type='gain', learning_rate=0.1, max_delta_step=0,\n",
            "             max_depth=3, min_child_weight=1, missing=None, n_estimators=100,\n",
            "             n_jobs=1, nthread=None, objective='reg:linear', random_state=0,\n",
            "             reg_alpha=0, reg_lambda=1, scale_pos_weight=1, seed=None,\n",
            "             silent=None, subsample=1, verbosity=0)\n",
            "Training score:  0.9999999791594338\n",
            "Mean cross-validation score: 0.99\n"
          ]
        }
      ]
    },
    {
      "cell_type": "code",
      "metadata": {
        "colab": {
          "base_uri": "https://localhost:8080/"
        },
        "id": "gmyDXqoWrmIt",
        "outputId": "3a845fb3-08cd-4ed7-be4f-868fff0388fa"
      },
      "source": [
        "kfold = KFold(n_splits=10, shuffle=True)\n",
        "kf_cv_scores = cross_val_score(xgbr, xtrain, ytrain, cv=kfold )\n",
        "print(\"K-fold CV average score: %.2f\" % kf_cv_scores.mean())"
      ],
      "execution_count": null,
      "outputs": [
        {
          "output_type": "stream",
          "name": "stdout",
          "text": [
            "K-fold CV average score: 0.99\n"
          ]
        }
      ]
    },
    {
      "cell_type": "code",
      "metadata": {
        "colab": {
          "base_uri": "https://localhost:8080/"
        },
        "id": "pQiOlYyOrQJ1",
        "outputId": "26049991-7948-483a-8055-8b861ce2e217"
      },
      "source": [
        "ypred = xgbr.predict(xtest)\n",
        "mse = mean_squared_error(ytest, ypred)\n",
        "print(\"MSE: %.2f\" % mse)\n",
        "print(\"RMSE: %.2f\" % (mse**(1/2.0)))\n",
        "\n"
      ],
      "execution_count": null,
      "outputs": [
        {
          "output_type": "stream",
          "name": "stdout",
          "text": [
            "MSE: 0.02\n",
            "RMSE: 0.16\n"
          ]
        }
      ]
    },
    {
      "cell_type": "code",
      "metadata": {
        "colab": {
          "base_uri": "https://localhost:8080/",
          "height": 265
        },
        "id": "EgOyMbL5rUup",
        "outputId": "f5cf6ca6-904e-4c30-f8e4-02effe1280eb"
      },
      "source": [
        "x_ax = range(len(ytest))\n",
        "plt.scatter(x_ax, ytest, s=5, color=\"blue\", label=\"original\")\n",
        "plt.plot(x_ax, ypred, lw=0.8, color=\"red\", label=\"predicted\")\n",
        "plt.legend()\n",
        "plt.show()"
      ],
      "execution_count": null,
      "outputs": [
        {
          "output_type": "display_data",
          "data": {
            "image/png": "[encoded data removed]",
            "text/plain": [
              "<Figure size 432x288 with 1 Axes>"
            ]
          },
          "metadata": {
            "needs_background": "light"
          }
        }
      ]
    },
    {
      "cell_type": "code",
      "metadata": {
        "id": "u9ED2z5XehEk"
      },
      "source": [
        "#XGBOOST giving very good accuracy"
      ],
      "execution_count": null,
      "outputs": []
    }
  ]
}